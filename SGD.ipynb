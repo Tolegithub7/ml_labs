{
  "nbformat": 4,
  "nbformat_minor": 0,
  "metadata": {
    "colab": {
      "provenance": [],
      "authorship_tag": "ABX9TyPEkeGBv1NgjzugbYg7WGGp",
      "include_colab_link": true
    },
    "kernelspec": {
      "name": "python3",
      "display_name": "Python 3"
    },
    "language_info": {
      "name": "python"
    }
  },
  "cells": [
    {
      "cell_type": "markdown",
      "metadata": {
        "id": "view-in-github",
        "colab_type": "text"
      },
      "source": [
        "<a href=\"https://colab.research.google.com/github/Tolegithub7/ml_labs/blob/main/SGD.ipynb\" target=\"_parent\"><img src=\"https://colab.research.google.com/assets/colab-badge.svg\" alt=\"Open In Colab\"/></a>"
      ]
    },
    {
      "cell_type": "code",
      "execution_count": 1,
      "metadata": {
        "id": "wgkG5PBqI8Ci"
      },
      "outputs": [],
      "source": [
        "import numpy as np\n",
        "import pandas as pd\n",
        "import matplotlib.pyplot as plt\n",
        "import seaborn as sns\n",
        "from sklearn import datasets\n",
        "from sklearn.model_selection import train_test_split"
      ]
    },
    {
      "cell_type": "code",
      "source": [
        "bc = datasets.load_breast_cancer()\n",
        "X = bc.data\n",
        "y = bc.target"
      ],
      "metadata": {
        "id": "B8IyucN3ZHfR"
      },
      "execution_count": 2,
      "outputs": []
    },
    {
      "cell_type": "code",
      "source": [
        "X_train, X_test, y_train, y_test = train_test_split(X, y, test_size=0.3, random_state=42, stratify=y)"
      ],
      "metadata": {
        "id": "Po7ZHzvZZTkG"
      },
      "execution_count": 3,
      "outputs": []
    },
    {
      "cell_type": "code",
      "source": [
        "class CustomPerceptron:\n",
        "    def __init__(self, n_iterations=100, learning_rate=0.01):\n",
        "        self.n_iterations = n_iterations\n",
        "        self.learning_rate = learning_rate\n",
        "        self.w = None\n",
        "        self.b = None\n",
        "\n",
        "    def fit(self, X, y):\n",
        "        n_samples, n_features = X.shape\n",
        "        self.w = np.zeros(n_features)\n",
        "        self.b = 0\n",
        "\n",
        "        for _ in range(self.n_iterations):\n",
        "            for xi, target in zip(X, y):\n",
        "                output = self.activation(xi)\n",
        "                if (target * output) <= 0:\n",
        "                    self.w += self.learning_rate * target * xi\n",
        "                    self.b += self.learning_rate * target\n",
        "\n",
        "    def activation(self, X):\n",
        "        return np.dot(X, self.w) + self.b\n",
        "\n",
        "    def predict(self, X):\n",
        "        outputs = self.activation(X)\n",
        "        return np.where(outputs >= 0, 1, -1)\n",
        "\n",
        "    def score(self, X, y):\n",
        "      misclassified_data_count = 0\n",
        "      for xi, target in zip(X, y):\n",
        "          output = self.predict(xi)\n",
        "          if target != output:\n",
        "              misclassified_data_count += 1\n",
        "      total_data_count = len(X)\n",
        "      self.score_ = (total_data_count - misclassified_data_count)/total_data_count\n",
        "      return self.score_\n"
      ],
      "metadata": {
        "id": "p7Z2EInTacDA"
      },
      "execution_count": 5,
      "outputs": []
    },
    {
      "cell_type": "code",
      "source": [
        "n_iterations=100\n",
        "learning_rate=0.01"
      ],
      "metadata": {
        "id": "hXJ0dfWHapqN"
      },
      "execution_count": 6,
      "outputs": []
    },
    {
      "cell_type": "code",
      "source": [
        "prcptrn = CustomPerceptron()\n",
        "prcptrn.fit(X_train, y_train)"
      ],
      "metadata": {
        "id": "mxDBiHEybIw2"
      },
      "execution_count": 7,
      "outputs": []
    },
    {
      "cell_type": "code",
      "source": [
        "print(prcptrn.score(X_test, y_test))\n",
        "prcptrn.score(X_train, y_train)"
      ],
      "metadata": {
        "colab": {
          "base_uri": "https://localhost:8080/"
        },
        "id": "LMHJ09BabL4E",
        "outputId": "c896cbc8-b6ed-4ece-e336-7e34a2798fef"
      },
      "execution_count": 8,
      "outputs": [
        {
          "output_type": "stream",
          "name": "stdout",
          "text": [
            "0.6257309941520468\n"
          ]
        },
        {
          "output_type": "execute_result",
          "data": {
            "text/plain": [
              "0.628140703517588"
            ]
          },
          "metadata": {},
          "execution_count": 8
        }
      ]
    },
    {
      "cell_type": "code",
      "source": [],
      "metadata": {
        "id": "VV5et8jebOGy"
      },
      "execution_count": null,
      "outputs": []
    }
  ]
}