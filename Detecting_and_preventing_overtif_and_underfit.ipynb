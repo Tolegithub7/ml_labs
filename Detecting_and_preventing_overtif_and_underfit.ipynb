{
  "nbformat": 4,
  "nbformat_minor": 0,
  "metadata": {
    "colab": {
      "provenance": [],
      "authorship_tag": "ABX9TyNQYmTq9shrrspyei4wVOte",
      "include_colab_link": true
    },
    "kernelspec": {
      "name": "python3",
      "display_name": "Python 3"
    },
    "language_info": {
      "name": "python"
    }
  },
  "cells": [
    {
      "cell_type": "markdown",
      "metadata": {
        "id": "view-in-github",
        "colab_type": "text"
      },
      "source": [
        "<a href=\"https://colab.research.google.com/github/Tolegithub7/ml_labs/blob/main/Detecting_and_preventing_overtif_and_underfit.ipynb\" target=\"_parent\"><img src=\"https://colab.research.google.com/assets/colab-badge.svg\" alt=\"Open In Colab\"/></a>"
      ]
    },
    {
      "cell_type": "code",
      "execution_count": 6,
      "metadata": {
        "id": "OApaMQjVkshI"
      },
      "outputs": [],
      "source": [
        "from sklearn.datasets import make_classification\n",
        "from sklearn.model_selection import train_test_split\n",
        "from sklearn.metrics import accuracy_score\n",
        "from sklearn.tree import DecisionTreeClassifier\n",
        "from matplotlib import pyplot"
      ]
    },
    {
      "cell_type": "code",
      "source": [
        "X, y = make_classification(n_samples=9000, n_features=18, n_informative=4, n_redundant=12, random_state=4)"
      ],
      "metadata": {
        "id": "wWuOUKpw4W1M"
      },
      "execution_count": 7,
      "outputs": []
    },
    {
      "cell_type": "code",
      "source": [
        "X_train, X_test, y_train, y_test = train_test_split(X, y, test_size=0.3)"
      ],
      "metadata": {
        "id": "5H6TiRlN46Fj"
      },
      "execution_count": 8,
      "outputs": []
    },
    {
      "cell_type": "code",
      "source": [
        "train_scores, test_scores = list(), list()"
      ],
      "metadata": {
        "id": "yZTQMk8J5Dr_"
      },
      "execution_count": 9,
      "outputs": []
    },
    {
      "cell_type": "code",
      "source": [
        "values = [i for i in range(1, 21)]"
      ],
      "metadata": {
        "id": "53jgUKGg5IW6"
      },
      "execution_count": 12,
      "outputs": []
    },
    {
      "cell_type": "code",
      "source": [
        "for i in values:\n",
        "    model = DecisionTreeClassifier(max_depth=i)\n",
        "    model.fit(X_train, y_train)\n",
        "    train_yhat = model.predict(X_train)\n",
        "    train_acc = accuracy_score(y_train, train_yhat)\n",
        "    test_yhat = model.predict(X_test)\n",
        "    test_acc = accuracy_score(y_test, test_yhat)\n",
        "    train_scores.append(train_acc)\n",
        "    test_scores.append(test_acc)\n",
        "    print('>%d, train: %.3f, test: %.3f' % (i, train_acc, test_acc))"
      ],
      "metadata": {
        "colab": {
          "base_uri": "https://localhost:8080/"
        },
        "id": "5kR4OVXuIrM1",
        "outputId": "28812d65-9e71-4458-e90b-b61ee38a9106"
      },
      "execution_count": 13,
      "outputs": [
        {
          "output_type": "stream",
          "name": "stdout",
          "text": [
            ">1, train: 0.837, test: 0.834\n",
            ">2, train: 0.853, test: 0.842\n",
            ">3, train: 0.879, test: 0.867\n",
            ">4, train: 0.906, test: 0.891\n",
            ">5, train: 0.915, test: 0.901\n",
            ">6, train: 0.933, test: 0.909\n",
            ">7, train: 0.949, test: 0.924\n",
            ">8, train: 0.965, test: 0.936\n",
            ">9, train: 0.971, test: 0.933\n",
            ">10, train: 0.978, test: 0.934\n",
            ">11, train: 0.983, test: 0.937\n",
            ">12, train: 0.990, test: 0.937\n",
            ">13, train: 0.993, test: 0.934\n",
            ">14, train: 0.995, test: 0.931\n",
            ">15, train: 0.997, test: 0.933\n",
            ">16, train: 0.998, test: 0.937\n",
            ">17, train: 0.999, test: 0.936\n",
            ">18, train: 0.999, test: 0.933\n",
            ">19, train: 0.999, test: 0.933\n",
            ">20, train: 0.999, test: 0.933\n"
          ]
        }
      ]
    }
  ]
}