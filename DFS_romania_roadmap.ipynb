{
  "nbformat": 4,
  "nbformat_minor": 0,
  "metadata": {
    "colab": {
      "provenance": [],
      "authorship_tag": "ABX9TyP5ahMgq+1JrKea88j150Gy",
      "include_colab_link": true
    },
    "kernelspec": {
      "name": "python3",
      "display_name": "Python 3"
    },
    "language_info": {
      "name": "python"
    }
  },
  "cells": [
    {
      "cell_type": "markdown",
      "metadata": {
        "id": "view-in-github",
        "colab_type": "text"
      },
      "source": [
        "<a href=\"https://colab.research.google.com/github/Tolegithub7/ml_labs/blob/main/DFS_romania_roadmap.ipynb\" target=\"_parent\"><img src=\"https://colab.research.google.com/assets/colab-badge.svg\" alt=\"Open In Colab\"/></a>"
      ]
    },
    {
      "cell_type": "code",
      "execution_count": null,
      "metadata": {
        "id": "7KB2NDpuaxjQ"
      },
      "outputs": [],
      "source": [
        "romania_map = {\n",
        "    'Arad': ['Sibiu', 'Timisoara', 'Zerind'],\n",
        "    'Sibiu': ['Arad', 'Oradea', 'Fagaras', 'Rimnicu Vilcea'],\n",
        "    'Timisoara': ['Arad', 'Lugoj'],\n",
        "    'Zerind': ['Arad', 'Oradea'],\n",
        "    'Oradea': ['Zerind', 'Sibiu'],\n",
        "    'Fagaras': ['Sibiu', 'Bucharest'],\n",
        "    'Rimnicu Vilcea': ['Sibiu', 'Pitesti', 'Craiova'],\n",
        "    'Lugoj': ['Timisoara', 'Mehadia'],\n",
        "    'Mehadia': ['Lugoj', 'Drobeta'],\n",
        "    'Drobeta': ['Mehadia', 'Craiova'],\n",
        "    'Craiova': ['Drobeta', 'Rimnicu Vilcea', 'Pitesti'],\n",
        "    'Pitesti': ['Rimnicu Vilcea', 'Craiova', 'Bucharest'],\n",
        "    'Bucharest': ['Fagaras', 'Pitesti', 'Giurgiu', 'Urziceni'],\n",
        "    'Giurgiu': ['Bucharest'],\n",
        "    'Urziceni': ['Bucharest', 'Hirsova', 'Vaslui'],\n",
        "    'Hirsova': ['Urziceni', 'Eforie'],\n",
        "    'Eforie': ['Hirsova'],\n",
        "    'Vaslui': ['Urziceni', 'Iasi'],\n",
        "    'Iasi': ['Vaslui', 'Neamt'],\n",
        "    'Neamt': ['Iasi']\n",
        "}"
      ]
    },
    {
      "cell_type": "code",
      "source": [
        "# Depth First Search (DFS) Function\n",
        "def dfs(graph, start, goal, path=None, visited=None):\n",
        "    if path is None:\n",
        "        path = []\n",
        "    if visited is None:\n",
        "        visited = set()\n",
        "\n",
        "    path.append(start)\n",
        "    visited.add(start)\n",
        "\n",
        "    # If the goal is reached, return the path\n",
        "    if start == goal:\n",
        "        return path\n",
        "\n",
        "    # Explore neighbors\n",
        "    for neighbor in graph[start]:\n",
        "        if neighbor not in visited:\n",
        "            result = dfs(graph, neighbor, goal, path.copy(), visited)\n",
        "            if result is not None:\n",
        "                return result\n",
        "\n",
        "    return None  # No path found\n",
        "\n",
        "# Run DFS from Arad to Bucharest\n",
        "path = dfs(romania_map, 'Arad', 'Bucharest')\n",
        "print(\"Path from Arad to Bucharest:\", path)"
      ],
      "metadata": {
        "colab": {
          "base_uri": "https://localhost:8080/"
        },
        "id": "n9G6grlia1ih",
        "outputId": "f591d45a-7422-4130-e1d7-0ec35fa8348e"
      },
      "execution_count": null,
      "outputs": [
        {
          "output_type": "stream",
          "name": "stdout",
          "text": [
            "Path from Arad to Bucharest: ['Arad', 'Sibiu', 'Fagaras', 'Bucharest']\n"
          ]
        }
      ]
    },
    {
      "cell_type": "code",
      "source": [],
      "metadata": {
        "id": "6-_lH1lKa7uw"
      },
      "execution_count": null,
      "outputs": []
    }
  ]
}