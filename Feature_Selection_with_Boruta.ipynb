{
  "nbformat": 4,
  "nbformat_minor": 0,
  "metadata": {
    "colab": {
      "provenance": [],
      "authorship_tag": "ABX9TyPcnUPY+NSKpKGI+sxHe9A3",
      "include_colab_link": true
    },
    "kernelspec": {
      "name": "python3",
      "display_name": "Python 3"
    },
    "language_info": {
      "name": "python"
    }
  },
  "cells": [
    {
      "cell_type": "markdown",
      "metadata": {
        "id": "view-in-github",
        "colab_type": "text"
      },
      "source": [
        "<a href=\"https://colab.research.google.com/github/Tolegithub7/ml_labs/blob/main/Feature_Selection_with_Boruta.ipynb\" target=\"_parent\"><img src=\"https://colab.research.google.com/assets/colab-badge.svg\" alt=\"Open In Colab\"/></a>"
      ]
    },
    {
      "cell_type": "code",
      "source": [
        "!pip install boruta\n"
      ],
      "metadata": {
        "colab": {
          "base_uri": "https://localhost:8080/"
        },
        "id": "UAMQVoUo_3K_",
        "outputId": "7e0f9b8a-71bb-4f50-cba2-58fdfa7b0ed6"
      },
      "execution_count": 5,
      "outputs": [
        {
          "output_type": "stream",
          "name": "stdout",
          "text": [
            "Collecting boruta\n",
            "  Downloading Boruta-0.4.3-py3-none-any.whl.metadata (8.8 kB)\n",
            "Requirement already satisfied: numpy>=1.10.4 in /usr/local/lib/python3.10/dist-packages (from boruta) (1.26.4)\n",
            "Requirement already satisfied: scikit-learn>=0.17.1 in /usr/local/lib/python3.10/dist-packages (from boruta) (1.5.2)\n",
            "Requirement already satisfied: scipy>=0.17.0 in /usr/local/lib/python3.10/dist-packages (from boruta) (1.13.1)\n",
            "Requirement already satisfied: joblib>=1.2.0 in /usr/local/lib/python3.10/dist-packages (from scikit-learn>=0.17.1->boruta) (1.4.2)\n",
            "Requirement already satisfied: threadpoolctl>=3.1.0 in /usr/local/lib/python3.10/dist-packages (from scikit-learn>=0.17.1->boruta) (3.5.0)\n",
            "Downloading Boruta-0.4.3-py3-none-any.whl (57 kB)\n",
            "\u001b[2K   \u001b[90m━━━━━━━━━━━━━━━━━━━━━━━━━━━━━━━━━━━━━━━━\u001b[0m \u001b[32m57.9/57.9 kB\u001b[0m \u001b[31m3.0 MB/s\u001b[0m eta \u001b[36m0:00:00\u001b[0m\n",
            "\u001b[?25hInstalling collected packages: boruta\n",
            "Successfully installed boruta-0.4.3\n"
          ]
        }
      ]
    },
    {
      "cell_type": "code",
      "execution_count": 6,
      "metadata": {
        "id": "K5PQwtBpjLhB"
      },
      "outputs": [],
      "source": [
        "import numpy as np\n",
        "import pandas as pd\n",
        "from sklearn.ensemble import RandomForestClassifier\n",
        "from boruta import BorutaPy\n",
        "from sklearn.model_selection import train_test_split\n",
        "from sklearn.metrics import accuracy_score"
      ]
    },
    {
      "cell_type": "code",
      "source": [
        "URL = \"https://raw.githubusercontent.com/Aditya1001001/English-Premier-League/master/pos_modelling_data.csv\"\n",
        "data = pd.read_csv(URL)\n",
        "data.info()"
      ],
      "metadata": {
        "colab": {
          "base_uri": "https://localhost:8080/"
        },
        "id": "bohb9SDxkNU1",
        "outputId": "ca2d4872-d726-43b6-ae2a-0b4216c0c908"
      },
      "execution_count": 7,
      "outputs": [
        {
          "output_type": "stream",
          "name": "stdout",
          "text": [
            "<class 'pandas.core.frame.DataFrame'>\n",
            "RangeIndex: 1793 entries, 0 to 1792\n",
            "Data columns (total 35 columns):\n",
            " #   Column               Non-Null Count  Dtype  \n",
            "---  ------               --------------  -----  \n",
            " 0   Position             1793 non-null   object \n",
            " 1   Clean sheets         1793 non-null   float64\n",
            " 2   Goals conceded       1793 non-null   float64\n",
            " 3   Tackles              1793 non-null   float64\n",
            " 4   Tackle success %     1793 non-null   int64  \n",
            " 5   Blocked shots        1793 non-null   float64\n",
            " 6   Interceptions        1793 non-null   float64\n",
            " 7   Clearances           1793 non-null   float64\n",
            " 8   Recoveries           1793 non-null   float64\n",
            " 9   Successful 50/50s    1793 non-null   float64\n",
            " 10  Own goals            1793 non-null   float64\n",
            " 11  Assists              1793 non-null   int64  \n",
            " 12  Passes               1793 non-null   int64  \n",
            " 13  Passes per match     1793 non-null   float64\n",
            " 14  Big chances created  1793 non-null   float64\n",
            " 15  Crosses              1793 non-null   float64\n",
            " 16  Cross accuracy %     1793 non-null   int64  \n",
            " 17  Through balls        1793 non-null   float64\n",
            " 18  Accurate long balls  1793 non-null   float64\n",
            " 19  Yellow cards         1793 non-null   int64  \n",
            " 20  Red cards            1793 non-null   int64  \n",
            " 21  Fouls                1793 non-null   int64  \n",
            " 22  Offsides             1793 non-null   float64\n",
            " 23  Goals                1793 non-null   int64  \n",
            " 24  Goals per match      1793 non-null   float64\n",
            " 25  Shots                1793 non-null   float64\n",
            " 26  Shooting accuracy %  1793 non-null   int64  \n",
            " 27  Saves                1793 non-null   float64\n",
            " 28  Penalties saved      1793 non-null   float64\n",
            " 29  age                  1793 non-null   int64  \n",
            " 30  value_eur            1793 non-null   int64  \n",
            " 31  overall              1793 non-null   int64  \n",
            " 32  Arial Saves          1793 non-null   float64\n",
            " 33  Duels %              1793 non-null   float64\n",
            " 34  Aerial battles %     1793 non-null   float64\n",
            "dtypes: float64(22), int64(12), object(1)\n",
            "memory usage: 490.4+ KB\n"
          ]
        }
      ]
    },
    {
      "cell_type": "code",
      "source": [
        "X = data.drop('Position', axis = 1)\n",
        "y = data['Position']\n",
        "X_train, X_test, y_train, y_test = train_test_split(X, y, test_size = 0.2, random_state = 1)"
      ],
      "metadata": {
        "id": "xUH5HZxCk5zD"
      },
      "execution_count": 8,
      "outputs": []
    },
    {
      "cell_type": "code",
      "source": [
        "# Random Forest Classifier\n",
        "rf_all_features = RandomForestClassifier(random_state=1, n_estimators=1000, max_depth=5)\n",
        "\n",
        "# Fit the model on training data\n",
        "rf_all_features.fit(X_train, y_train)\n",
        "\n",
        "# Calculate accuracy on test data\n",
        "accuracy = accuracy_score(y_test, rf_all_features.predict(X_test))\n",
        "print(\"Accuracy:\", accuracy)"
      ],
      "metadata": {
        "colab": {
          "base_uri": "https://localhost:8080/"
        },
        "id": "pHbALgnc-7Oy",
        "outputId": "cc11e960-2a25-4a68-8234-13dfbc4dc80c"
      },
      "execution_count": 9,
      "outputs": [
        {
          "output_type": "stream",
          "name": "stdout",
          "text": [
            "Accuracy: 0.7298050139275766\n"
          ]
        }
      ]
    }
  ]
}